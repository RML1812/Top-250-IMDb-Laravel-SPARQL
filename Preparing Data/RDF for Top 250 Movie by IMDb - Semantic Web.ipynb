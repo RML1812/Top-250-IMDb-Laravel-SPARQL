{
 "cells": [
  {
   "cell_type": "markdown",
   "metadata": {},
   "source": [
    "# Proyek Semantik Web: RDF for Top 250 Movie by IMDb"
   ]
  },
  {
   "cell_type": "markdown",
   "metadata": {},
   "source": [
    "### Import Library"
   ]
  },
  {
   "cell_type": "code",
   "execution_count": 1,
   "metadata": {},
   "outputs": [],
   "source": [
    "import pandas as pd\n",
    "from rdflib import Graph, Namespace, Literal, RDF, RDFS, OWL\n",
    "from rdflib.namespace import XSD"
   ]
  },
  {
   "cell_type": "markdown",
   "metadata": {},
   "source": [
    "### Load Data"
   ]
  },
  {
   "cell_type": "code",
   "execution_count": 2,
   "metadata": {},
   "outputs": [],
   "source": [
    "movies_df = pd.read_csv(\"result-data/movies.csv\")\n",
    "persons_df = pd.read_csv(\"result-data/persons.csv\")\n",
    "genres_df = pd.read_csv(\"result-data/genres.csv\")"
   ]
  },
  {
   "cell_type": "markdown",
   "metadata": {},
   "source": [
    "### Membuat OWL"
   ]
  },
  {
   "cell_type": "code",
   "execution_count": 3,
   "metadata": {},
   "outputs": [
    {
     "data": {
      "text/plain": [
       "<Graph identifier=Nef81b41635284f7bb89b2f7d91e203b4 (<class 'rdflib.graph.Graph'>)>"
      ]
     },
     "execution_count": 3,
     "metadata": {},
     "output_type": "execute_result"
    }
   ],
   "source": [
    "g = Graph()\n",
    "\n",
    "EX = Namespace(\"http://example.org/\")\n",
    "g.bind(\"ex\", EX)\n",
    "g.bind(\"rdf\", RDF)\n",
    "g.bind(\"rdfs\", RDFS)\n",
    "g.bind(\"owl\", OWL)\n",
    "g.bind(\"xsd\", XSD)\n",
    "\n",
    "Movie = EX.Movie\n",
    "Person = EX.Person\n",
    "Genre = EX.Genre\n",
    "\n",
    "g.add((Movie, RDF.type, OWL.Class))\n",
    "g.add((Person, RDF.type, OWL.Class))\n",
    "g.add((Genre, RDF.type, OWL.Class))\n",
    "\n",
    "movie_properties = [\n",
    "    (EX.hasRank, XSD.integer),\n",
    "    (EX.hasTitle, XSD.string),\n",
    "    (EX.hasIMDBLink, XSD.string),\n",
    "    (EX.hasIMDBVotes, XSD.string),\n",
    "    (EX.hasIMDBRating, XSD.float),\n",
    "    (EX.hasDuration, XSD.string),\n",
    "    (EX.hasGenre, EX.Genre),\n",
    "    (EX.hasCast, EX.Person),\n",
    "    (EX.hasDirector, EX.Person),\n",
    "    (EX.hasWriter, EX.Person),\n",
    "    (EX.hasStoryline, XSD.string),\n",
    "    (EX.hasRottenRating, XSD.string),\n",
    "    (EX.hasRottenVotes, XSD.string),\n",
    "    (EX.hasRottenLink, XSD.string),\n",
    "    (EX.hasPoster, XSD.string),\n",
    "    (EX.hasYear, XSD.string),\n",
    "]\n",
    "\n",
    "for prop, range in movie_properties:\n",
    "    g.add((prop, RDF.type, OWL.DatatypeProperty))\n",
    "    g.add((prop, RDFS.range, range))\n",
    "\n",
    "person_properties = [\n",
    "    (EX.hasName, XSD.string),\n",
    "    (EX.hasBirthday, XSD.string),\n",
    "    (EX.hasPlaceOfBirth, XSD.string),\n",
    "    (EX.hasPicture, XSD.string),\n",
    "    (EX.hasProfileLink, XSD.string),\n",
    "]\n",
    "\n",
    "for prop, range in person_properties:\n",
    "    g.add((prop, RDF.type, OWL.DatatypeProperty))\n",
    "    g.add((prop, RDFS.range, range))\n",
    "\n",
    "genre_properties = [\n",
    "    (EX.hasGenreName, XSD.string),\n",
    "]\n",
    "\n",
    "for prop, range in genre_properties:\n",
    "    g.add((prop, RDF.type, OWL.DatatypeProperty))\n",
    "    g.add((prop, RDFS.range, range))\n",
    "\n",
    "g.serialize(\"result-rdf/movies.owl\", format=\"xml\")\n"
   ]
  },
  {
   "cell_type": "markdown",
   "metadata": {},
   "source": [
    "### Membuat Turtle"
   ]
  },
  {
   "cell_type": "code",
   "execution_count": 4,
   "metadata": {},
   "outputs": [
    {
     "data": {
      "text/plain": [
       "<Graph identifier=N113568bcd70840f19230224edce6e9ba (<class 'rdflib.graph.Graph'>)>"
      ]
     },
     "execution_count": 4,
     "metadata": {},
     "output_type": "execute_result"
    }
   ],
   "source": [
    "g = Graph()\n",
    "EX = Namespace(\"http://example.org/\")\n",
    "g.bind(\"ex\", EX)\n",
    "\n",
    "for _, row in persons_df.iterrows():\n",
    "    person_uri = EX[\"person/\" + row[\"person_name\"].replace(\" \", \"_\")]\n",
    "    g.add((person_uri, RDF.type, Person))\n",
    "    g.add((person_uri, EX.hasName, Literal(row[\"person_name\"])))\n",
    "    g.add((person_uri, EX.hasBirthday, Literal(row[\"birthday\"])))\n",
    "    g.add((person_uri, EX.hasPlaceOfBirth, Literal(row[\"place_birth\"])))\n",
    "    g.add((person_uri, EX.hasPicture, Literal(row[\"picture\"])))\n",
    "    g.add((person_uri, EX.hasProfileLink, Literal(row[\"profile_link\"])))\n",
    "\n",
    "for _, row in genres_df.iterrows():\n",
    "    genre_uri = EX[\"genre/\" + row[\"genre\"].replace(\" \", \"_\")]\n",
    "    g.add((genre_uri, RDF.type, Genre))\n",
    "    g.add((genre_uri, EX.hasGenreName, Literal(row[\"genre\"])))\n",
    "\n",
    "for _, row in movies_df.iterrows():\n",
    "    movie_uri = EX[\"movie/\" + row[\"title\"].replace(\" \", \"_\")]\n",
    "    g.add((movie_uri, RDF.type, Movie))\n",
    "    g.add((movie_uri, EX.hasRank, Literal(row[\"rank\"])))\n",
    "    g.add((movie_uri, EX.hasTitle, Literal(row[\"title\"])))\n",
    "    g.add((movie_uri, EX.hasIMDBLink, Literal(row[\"imdb_link\"])))\n",
    "    g.add((movie_uri, EX.hasIMDBVotes, Literal(row[\"imdb_votes\"])))\n",
    "    g.add((movie_uri, EX.hasIMDBRating, Literal(row[\"imdb_rating\"])))\n",
    "    g.add((movie_uri, EX.hasDuration, Literal(row[\"duration\"])))\n",
    "    g.add((movie_uri, EX.hasStoryline, Literal(row[\"storyline\"])))\n",
    "    g.add((movie_uri, EX.hasRottenRating, Literal(row[\"rotten_rating\"])))\n",
    "    g.add((movie_uri, EX.hasRottenVotes, Literal(row[\"rotten_votes\"])))\n",
    "    g.add((movie_uri, EX.hasRottenLink, Literal(row[\"rotten_link\"])))\n",
    "    g.add((movie_uri, EX.hasPoster, Literal(row[\"poster\"])))\n",
    "    g.add((movie_uri, EX.hasYear, Literal(row[\"year\"])))\n",
    "\n",
    "    for genre in row[\"genre\"].split(\",\"):\n",
    "        genre_uri = EX[\"genre/\" + genre.strip().replace(\" \", \"_\")]\n",
    "        g.add((movie_uri, EX.hasGenre, genre_uri))\n",
    "    \n",
    "    for person_role, prop in [(\"cast_name\", EX.hasCast), (\"director_name\", EX.hasDirector), (\"writer_name\", EX.hasWriter)]:\n",
    "        for person in row[person_role].split(\",\"):\n",
    "            person_uri = EX[\"person/\" + person.strip().replace(\" \", \"_\")]\n",
    "            g.add((movie_uri, prop, person_uri))\n",
    "\n",
    "g.serialize(\"result-rdf/movies.ttl\", format=\"turtle\")"
   ]
  }
 ],
 "metadata": {
  "kernelspec": {
   "display_name": "Python 3",
   "language": "python",
   "name": "python3"
  },
  "language_info": {
   "codemirror_mode": {
    "name": "ipython",
    "version": 3
   },
   "file_extension": ".py",
   "mimetype": "text/x-python",
   "name": "python",
   "nbconvert_exporter": "python",
   "pygments_lexer": "ipython3",
   "version": "3.11.3"
  }
 },
 "nbformat": 4,
 "nbformat_minor": 2
}
